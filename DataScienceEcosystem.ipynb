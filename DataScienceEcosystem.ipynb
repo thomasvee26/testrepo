{
 "cells": [
  {
   "cell_type": "markdown",
   "id": "37d60ad5-540e-4bb7-b6d4-60066d9ad87d",
   "metadata": {
    "tags": []
   },
   "source": [
    "# Data Science Tools and Ecosystem"
   ]
  },
  {
   "cell_type": "markdown",
   "id": "d703e3c0-e518-45d7-aac3-cb956a2fd5ab",
   "metadata": {
    "tags": []
   },
   "source": [
    " In this notebook, Data Science Tools and Ecosystem are summarized.\n",
    "### **Objectives:**\n",
    "- List popular languages for data science\n",
    "- Commonly used libraries for data science\n",
    "- Some data science tools\n",
    "\n"
   ]
  },
  {
   "cell_type": "markdown",
   "id": "65e5cc47-f867-44b6-a874-78f23e54ded4",
   "metadata": {},
   "source": [
    "## Some of the popular languagues that data scientists use are:\n",
    "1. Python\n",
    "2. SQL\n",
    "3. R\n"
   ]
  },
  {
   "cell_type": "markdown",
   "id": "c9c60362-a709-467b-bf04-703979339a2b",
   "metadata": {},
   "source": [
    "## Some of the commonly used libraries used by Data Scientists include:\n",
    "1. Matplotlib\n",
    "2. NumPy\n",
    "3. Pandas\n",
    "4. TensorFlow"
   ]
  },
  {
   "cell_type": "markdown",
   "id": "620212ee-9fa2-4424-a3b5-dcf3456d99bf",
   "metadata": {},
   "source": [
    "| Data Science Tools|\n",
    "|-------------------|\n",
    "| Apache Spark|\n",
    "| Caffe|\n",
    "| Julia|"
   ]
  },
  {
   "cell_type": "markdown",
   "id": "6d1dfda5-9e42-4103-b802-7643984a5fc7",
   "metadata": {},
   "source": [
    "### Below are a few examples of evaluating arithmetic expressions in Python\n"
   ]
  },
  {
   "cell_type": "code",
   "execution_count": 3,
   "id": "74e5786e-8d2c-457e-8983-f3deab21a59b",
   "metadata": {
    "tags": []
   },
   "outputs": [
    {
     "data": {
      "text/plain": [
       "17"
      ]
     },
     "execution_count": 3,
     "metadata": {},
     "output_type": "execute_result"
    }
   ],
   "source": [
    "# This a simple arithmetic expression to mutiply then add integers\n",
    "(3*4)+5"
   ]
  },
  {
   "cell_type": "code",
   "execution_count": 4,
   "id": "df1d1e80-e12f-4963-a760-1f89a927b36a",
   "metadata": {
    "tags": []
   },
   "outputs": [
    {
     "data": {
      "text/plain": [
       "3.3333333333333335"
      ]
     },
     "execution_count": 4,
     "metadata": {},
     "output_type": "execute_result"
    }
   ],
   "source": [
    "# This will convert 200 minutes to hours by dividing by 60\n",
    "(200/60)"
   ]
  },
  {
   "cell_type": "markdown",
   "id": "42e9e7a4-09a3-442b-889c-0dee3dfcda0c",
   "metadata": {},
   "source": [
    "## Author\n",
    "Thomas V"
   ]
  },
  {
   "cell_type": "code",
   "execution_count": null,
   "id": "97aba617-1827-4681-ac5e-fdda72eb8520",
   "metadata": {},
   "outputs": [],
   "source": []
  }
 ],
 "metadata": {
  "kernelspec": {
   "display_name": "Python 3 (ipykernel)",
   "language": "python",
   "name": "python3"
  },
  "language_info": {
   "codemirror_mode": {
    "name": "ipython",
    "version": 3
   },
   "file_extension": ".py",
   "mimetype": "text/x-python",
   "name": "python",
   "nbconvert_exporter": "python",
   "pygments_lexer": "ipython3",
   "version": "3.11.5"
  }
 },
 "nbformat": 4,
 "nbformat_minor": 5
}
